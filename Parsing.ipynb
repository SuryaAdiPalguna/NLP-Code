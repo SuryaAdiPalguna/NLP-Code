{
 "cells": [
  {
   "cell_type": "code",
   "execution_count": 79,
   "metadata": {},
   "outputs": [],
   "source": [
    "import pandas as pd\n",
    "import nltk"
   ]
  },
  {
   "cell_type": "code",
   "execution_count": 80,
   "metadata": {},
   "outputs": [
    {
     "data": {
      "text/html": [
       "<div>\n",
       "<style scoped>\n",
       "    .dataframe tbody tr th:only-of-type {\n",
       "        vertical-align: middle;\n",
       "    }\n",
       "\n",
       "    .dataframe tbody tr th {\n",
       "        vertical-align: top;\n",
       "    }\n",
       "\n",
       "    .dataframe thead th {\n",
       "        text-align: right;\n",
       "    }\n",
       "</style>\n",
       "<table border=\"1\" class=\"dataframe\">\n",
       "  <thead>\n",
       "    <tr style=\"text-align: right;\">\n",
       "      <th></th>\n",
       "      <th>production</th>\n",
       "      <th>lhs</th>\n",
       "      <th>sum_production</th>\n",
       "      <th>sum_lhs</th>\n",
       "      <th>probability</th>\n",
       "    </tr>\n",
       "  </thead>\n",
       "  <tbody>\n",
       "    <tr>\n",
       "      <th>0</th>\n",
       "      <td>Adj -&gt; 'ageng'</td>\n",
       "      <td>Adj</td>\n",
       "      <td>1</td>\n",
       "      <td>32</td>\n",
       "      <td>0.031250</td>\n",
       "    </tr>\n",
       "    <tr>\n",
       "      <th>1</th>\n",
       "      <td>Adj -&gt; 'bajang'</td>\n",
       "      <td>Adj</td>\n",
       "      <td>1</td>\n",
       "      <td>32</td>\n",
       "      <td>0.031250</td>\n",
       "    </tr>\n",
       "    <tr>\n",
       "      <th>2</th>\n",
       "      <td>Adj -&gt; 'barak'</td>\n",
       "      <td>Adj</td>\n",
       "      <td>1</td>\n",
       "      <td>32</td>\n",
       "      <td>0.031250</td>\n",
       "    </tr>\n",
       "    <tr>\n",
       "      <th>3</th>\n",
       "      <td>Adj -&gt; 'belog'</td>\n",
       "      <td>Adj</td>\n",
       "      <td>3</td>\n",
       "      <td>32</td>\n",
       "      <td>0.093750</td>\n",
       "    </tr>\n",
       "    <tr>\n",
       "      <th>4</th>\n",
       "      <td>Adj -&gt; 'beneh'</td>\n",
       "      <td>Adj</td>\n",
       "      <td>1</td>\n",
       "      <td>32</td>\n",
       "      <td>0.031250</td>\n",
       "    </tr>\n",
       "    <tr>\n",
       "      <th>...</th>\n",
       "      <td>...</td>\n",
       "      <td>...</td>\n",
       "      <td>...</td>\n",
       "      <td>...</td>\n",
       "      <td>...</td>\n",
       "    </tr>\n",
       "    <tr>\n",
       "      <th>1361</th>\n",
       "      <td>Verb -&gt; 'tadah'</td>\n",
       "      <td>Verb</td>\n",
       "      <td>1</td>\n",
       "      <td>147</td>\n",
       "      <td>0.006803</td>\n",
       "    </tr>\n",
       "    <tr>\n",
       "      <th>1362</th>\n",
       "      <td>Verb -&gt; 'tamak'</td>\n",
       "      <td>Verb</td>\n",
       "      <td>1</td>\n",
       "      <td>147</td>\n",
       "      <td>0.006803</td>\n",
       "    </tr>\n",
       "    <tr>\n",
       "      <th>1363</th>\n",
       "      <td>Verb -&gt; 'tandruh'</td>\n",
       "      <td>Verb</td>\n",
       "      <td>1</td>\n",
       "      <td>147</td>\n",
       "      <td>0.006803</td>\n",
       "    </tr>\n",
       "    <tr>\n",
       "      <th>1364</th>\n",
       "      <td>Verb -&gt; 'tengkejutningeh'</td>\n",
       "      <td>Verb</td>\n",
       "      <td>1</td>\n",
       "      <td>147</td>\n",
       "      <td>0.006803</td>\n",
       "    </tr>\n",
       "    <tr>\n",
       "      <th>1365</th>\n",
       "      <td>Verb -&gt; 'tuara'</td>\n",
       "      <td>Verb</td>\n",
       "      <td>1</td>\n",
       "      <td>147</td>\n",
       "      <td>0.006803</td>\n",
       "    </tr>\n",
       "  </tbody>\n",
       "</table>\n",
       "<p>1366 rows × 5 columns</p>\n",
       "</div>"
      ],
      "text/plain": [
       "                     production   lhs  sum_production  sum_lhs  probability\n",
       "0                Adj -> 'ageng'   Adj               1       32     0.031250\n",
       "1               Adj -> 'bajang'   Adj               1       32     0.031250\n",
       "2                Adj -> 'barak'   Adj               1       32     0.031250\n",
       "3                Adj -> 'belog'   Adj               3       32     0.093750\n",
       "4                Adj -> 'beneh'   Adj               1       32     0.031250\n",
       "...                         ...   ...             ...      ...          ...\n",
       "1361            Verb -> 'tadah'  Verb               1      147     0.006803\n",
       "1362            Verb -> 'tamak'  Verb               1      147     0.006803\n",
       "1363          Verb -> 'tandruh'  Verb               1      147     0.006803\n",
       "1364  Verb -> 'tengkejutningeh'  Verb               1      147     0.006803\n",
       "1365            Verb -> 'tuara'  Verb               1      147     0.006803\n",
       "\n",
       "[1366 rows x 5 columns]"
      ]
     },
     "execution_count": 80,
     "metadata": {},
     "output_type": "execute_result"
    }
   ],
   "source": [
    "# ambil rule probabilistic\n",
    "df = pd.read_csv(\"rules/probabilistic_rules.csv\")\n",
    "df"
   ]
  },
  {
   "cell_type": "code",
   "execution_count": 81,
   "metadata": {},
   "outputs": [],
   "source": [
    "# tulis rule cfg\n",
    "# grammar_cfg = \"\"\n",
    "# for prod in df[\"production\"]:\n",
    "#   grammar_cfg += f\"{prod}\\n\"\n",
    "# grammar_cfg = nltk.CFG.fromstring(grammar_cfg)\n",
    "# grammar_cfg._start = nltk.Nonterminal(\"K\")\n",
    "# parser_cfg = nltk.ChartParser(grammar_cfg)"
   ]
  },
  {
   "cell_type": "code",
   "execution_count": 82,
   "metadata": {},
   "outputs": [],
   "source": [
    "# tulis rule pcfg\n",
    "grammar_pcfg = \"\"\n",
    "for prod, prob in zip(df[\"production\"], df[\"probability\"]):\n",
    "  grammar_pcfg += f\"{prod} [{prob}]\\n\"\n",
    "grammar_pcfg = nltk.PCFG.fromstring(grammar_pcfg)\n",
    "grammar_pcfg._start = nltk.Nonterminal(\"K\")\n",
    "parser_pcfg = nltk.ViterbiParser(grammar_pcfg)"
   ]
  },
  {
   "cell_type": "code",
   "execution_count": 83,
   "metadata": {},
   "outputs": [],
   "source": [
    "# tulis kalimat\n",
    "# sentence = input(\"Enter your Balinese sentence: \")\n",
    "sentence = \"meme baanga baas\"\n",
    "sentence = sentence.lower().split()"
   ]
  },
  {
   "cell_type": "code",
   "execution_count": 84,
   "metadata": {},
   "outputs": [
    {
     "data": {
      "image/svg+xml": [
       "<svg baseProfile=\"full\" height=\"216px\" preserveAspectRatio=\"xMidYMid meet\" style=\"font-family: times, serif; font-weight: normal; font-style: normal; font-size: 16px\" version=\"1.1\" viewBox=\"0,0,160.0,216.0\" width=\"160px\" xmlns=\"http://www.w3.org/2000/svg\" xmlns:ev=\"http://www.w3.org/2001/xml-events\" xmlns:xlink=\"http://www.w3.org/1999/xlink\"><defs /><svg width=\"100%\" x=\"0\" y=\"0px\"><defs /><text text-anchor=\"middle\" x=\"50%\" y=\"16px\">K</text></svg><svg width=\"30%\" x=\"0%\" y=\"48px\"><defs /><svg width=\"100%\" x=\"0\" y=\"0px\"><defs /><text text-anchor=\"middle\" x=\"50%\" y=\"16px\">S</text></svg><svg width=\"100%\" x=\"0%\" y=\"48px\"><defs /><svg width=\"100%\" x=\"0\" y=\"0px\"><defs /><text text-anchor=\"middle\" x=\"50%\" y=\"16px\">NP</text></svg><svg width=\"100%\" x=\"0%\" y=\"48px\"><defs /><svg width=\"100%\" x=\"0\" y=\"0px\"><defs /><text text-anchor=\"middle\" x=\"50%\" y=\"16px\">Noun</text></svg><svg width=\"100%\" x=\"0%\" y=\"48px\"><defs /><svg width=\"100%\" x=\"0\" y=\"0px\"><defs /><text text-anchor=\"middle\" x=\"50%\" y=\"16px\">meme</text></svg></svg><line stroke=\"black\" x1=\"50%\" x2=\"50%\" y1=\"20px\" y2=\"48px\" /></svg><line stroke=\"black\" x1=\"50%\" x2=\"50%\" y1=\"20px\" y2=\"48px\" /></svg><line stroke=\"black\" x1=\"50%\" x2=\"50%\" y1=\"20px\" y2=\"48px\" /></svg><line stroke=\"black\" x1=\"50%\" x2=\"15%\" y1=\"20px\" y2=\"48px\" /><svg width=\"40%\" x=\"30%\" y=\"48px\"><defs /><svg width=\"100%\" x=\"0\" y=\"0px\"><defs /><text text-anchor=\"middle\" x=\"50%\" y=\"16px\">P</text></svg><svg width=\"100%\" x=\"0%\" y=\"48px\"><defs /><svg width=\"100%\" x=\"0\" y=\"0px\"><defs /><text text-anchor=\"middle\" x=\"50%\" y=\"16px\">VP</text></svg><svg width=\"100%\" x=\"0%\" y=\"48px\"><defs /><svg width=\"100%\" x=\"0\" y=\"0px\"><defs /><text text-anchor=\"middle\" x=\"50%\" y=\"16px\">Verb</text></svg><svg width=\"100%\" x=\"0%\" y=\"48px\"><defs /><svg width=\"100%\" x=\"0\" y=\"0px\"><defs /><text text-anchor=\"middle\" x=\"50%\" y=\"16px\">baanga</text></svg></svg><line stroke=\"black\" x1=\"50%\" x2=\"50%\" y1=\"20px\" y2=\"48px\" /></svg><line stroke=\"black\" x1=\"50%\" x2=\"50%\" y1=\"20px\" y2=\"48px\" /></svg><line stroke=\"black\" x1=\"50%\" x2=\"50%\" y1=\"20px\" y2=\"48px\" /></svg><line stroke=\"black\" x1=\"50%\" x2=\"50%\" y1=\"20px\" y2=\"48px\" /><svg width=\"30%\" x=\"70%\" y=\"48px\"><defs /><svg width=\"100%\" x=\"0\" y=\"0px\"><defs /><text text-anchor=\"middle\" x=\"50%\" y=\"16px\">Pel</text></svg><svg width=\"100%\" x=\"0%\" y=\"48px\"><defs /><svg width=\"100%\" x=\"0\" y=\"0px\"><defs /><text text-anchor=\"middle\" x=\"50%\" y=\"16px\">NP</text></svg><svg width=\"100%\" x=\"0%\" y=\"48px\"><defs /><svg width=\"100%\" x=\"0\" y=\"0px\"><defs /><text text-anchor=\"middle\" x=\"50%\" y=\"16px\">Noun</text></svg><svg width=\"100%\" x=\"0%\" y=\"48px\"><defs /><svg width=\"100%\" x=\"0\" y=\"0px\"><defs /><text text-anchor=\"middle\" x=\"50%\" y=\"16px\">baas</text></svg></svg><line stroke=\"black\" x1=\"50%\" x2=\"50%\" y1=\"20px\" y2=\"48px\" /></svg><line stroke=\"black\" x1=\"50%\" x2=\"50%\" y1=\"20px\" y2=\"48px\" /></svg><line stroke=\"black\" x1=\"50%\" x2=\"50%\" y1=\"20px\" y2=\"48px\" /></svg><line stroke=\"black\" x1=\"50%\" x2=\"85%\" y1=\"20px\" y2=\"48px\" /></svg>"
      ],
      "text/plain": [
       "ProbabilisticTree('K', [ProbabilisticTree('S', [ProbabilisticTree('NP', [ProbabilisticTree('Noun', ['meme']) (p=0.0093545369504209)]) (p=0.003319099302910847)]) (p=0.003319099302910847), ProbabilisticTree('P', [ProbabilisticTree('VP', [ProbabilisticTree('Verb', ['baanga']) (p=0.0068027210884353)]) (p=0.004155175583746967)]) (p=0.0008712464933662994), ProbabilisticTree('Pel', [ProbabilisticTree('NP', [ProbabilisticTree('Noun', ['baas']) (p=0.0018709073900841)]) (p=0.000663819860582141)]) (p=0.0006044717273512874)]) (p=7.04831980271142e-10)"
      ]
     },
     "metadata": {},
     "output_type": "display_data"
    }
   ],
   "source": [
    "try:\n",
    "    for tree in parser_pcfg.parse(sentence):\n",
    "        display(tree)\n",
    "except Exception as e:\n",
    "    print(e)"
   ]
  }
 ],
 "metadata": {
  "kernelspec": {
   "display_name": "Python 3",
   "language": "python",
   "name": "python3"
  },
  "language_info": {
   "codemirror_mode": {
    "name": "ipython",
    "version": 3
   },
   "file_extension": ".py",
   "mimetype": "text/x-python",
   "name": "python",
   "nbconvert_exporter": "python",
   "pygments_lexer": "ipython3",
   "version": "3.12.8"
  }
 },
 "nbformat": 4,
 "nbformat_minor": 2
}
