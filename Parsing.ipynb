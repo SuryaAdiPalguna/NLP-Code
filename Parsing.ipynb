{
 "cells": [
  {
   "cell_type": "code",
   "execution_count": 84,
   "metadata": {},
   "outputs": [],
   "source": [
    "import pandas as pd\n",
    "import nltk"
   ]
  },
  {
   "cell_type": "code",
   "execution_count": 85,
   "metadata": {},
   "outputs": [
    {
     "data": {
      "text/html": [
       "<div>\n",
       "<style scoped>\n",
       "    .dataframe tbody tr th:only-of-type {\n",
       "        vertical-align: middle;\n",
       "    }\n",
       "\n",
       "    .dataframe tbody tr th {\n",
       "        vertical-align: top;\n",
       "    }\n",
       "\n",
       "    .dataframe thead th {\n",
       "        text-align: right;\n",
       "    }\n",
       "</style>\n",
       "<table border=\"1\" class=\"dataframe\">\n",
       "  <thead>\n",
       "    <tr style=\"text-align: right;\">\n",
       "      <th></th>\n",
       "      <th>production</th>\n",
       "      <th>lhs</th>\n",
       "      <th>sum_production</th>\n",
       "      <th>sum_lhs</th>\n",
       "      <th>probability</th>\n",
       "    </tr>\n",
       "  </thead>\n",
       "  <tbody>\n",
       "    <tr>\n",
       "      <th>0</th>\n",
       "      <td>Adj -&gt; 'abulan'</td>\n",
       "      <td>Adj</td>\n",
       "      <td>0.1</td>\n",
       "      <td>16.5</td>\n",
       "      <td>0.006061</td>\n",
       "    </tr>\n",
       "    <tr>\n",
       "      <th>1</th>\n",
       "      <td>Adj -&gt; 'ageng'</td>\n",
       "      <td>Adj</td>\n",
       "      <td>0.1</td>\n",
       "      <td>16.5</td>\n",
       "      <td>0.006061</td>\n",
       "    </tr>\n",
       "    <tr>\n",
       "      <th>2</th>\n",
       "      <td>Adj -&gt; 'akeh'</td>\n",
       "      <td>Adj</td>\n",
       "      <td>0.1</td>\n",
       "      <td>16.5</td>\n",
       "      <td>0.006061</td>\n",
       "    </tr>\n",
       "    <tr>\n",
       "      <th>3</th>\n",
       "      <td>Adj -&gt; 'alit'</td>\n",
       "      <td>Adj</td>\n",
       "      <td>0.1</td>\n",
       "      <td>16.5</td>\n",
       "      <td>0.006061</td>\n",
       "    </tr>\n",
       "    <tr>\n",
       "      <th>4</th>\n",
       "      <td>Adj -&gt; 'arang'</td>\n",
       "      <td>Adj</td>\n",
       "      <td>0.1</td>\n",
       "      <td>16.5</td>\n",
       "      <td>0.006061</td>\n",
       "    </tr>\n",
       "    <tr>\n",
       "      <th>...</th>\n",
       "      <td>...</td>\n",
       "      <td>...</td>\n",
       "      <td>...</td>\n",
       "      <td>...</td>\n",
       "      <td>...</td>\n",
       "    </tr>\n",
       "    <tr>\n",
       "      <th>19706</th>\n",
       "      <td>Verb -&gt; 'ulung'</td>\n",
       "      <td>Verb</td>\n",
       "      <td>2.1</td>\n",
       "      <td>360.2</td>\n",
       "      <td>0.005830</td>\n",
       "    </tr>\n",
       "    <tr>\n",
       "      <th>19707</th>\n",
       "      <td>Verb -&gt; 'uning'</td>\n",
       "      <td>Verb</td>\n",
       "      <td>1.1</td>\n",
       "      <td>360.2</td>\n",
       "      <td>0.003054</td>\n",
       "    </tr>\n",
       "    <tr>\n",
       "      <th>19708</th>\n",
       "      <td>Verb -&gt; 'urati'</td>\n",
       "      <td>Verb</td>\n",
       "      <td>1.1</td>\n",
       "      <td>360.2</td>\n",
       "      <td>0.003054</td>\n",
       "    </tr>\n",
       "    <tr>\n",
       "      <th>19709</th>\n",
       "      <td>Verb -&gt; 'wantah'</td>\n",
       "      <td>Verb</td>\n",
       "      <td>1.1</td>\n",
       "      <td>360.2</td>\n",
       "      <td>0.003054</td>\n",
       "    </tr>\n",
       "    <tr>\n",
       "      <th>19710</th>\n",
       "      <td>Verb -&gt; 'wenten'</td>\n",
       "      <td>Verb</td>\n",
       "      <td>2.1</td>\n",
       "      <td>360.2</td>\n",
       "      <td>0.005830</td>\n",
       "    </tr>\n",
       "  </tbody>\n",
       "</table>\n",
       "<p>19711 rows × 5 columns</p>\n",
       "</div>"
      ],
      "text/plain": [
       "             production   lhs  sum_production  sum_lhs  probability\n",
       "0       Adj -> 'abulan'   Adj             0.1     16.5     0.006061\n",
       "1        Adj -> 'ageng'   Adj             0.1     16.5     0.006061\n",
       "2         Adj -> 'akeh'   Adj             0.1     16.5     0.006061\n",
       "3         Adj -> 'alit'   Adj             0.1     16.5     0.006061\n",
       "4        Adj -> 'arang'   Adj             0.1     16.5     0.006061\n",
       "...                 ...   ...             ...      ...          ...\n",
       "19706   Verb -> 'ulung'  Verb             2.1    360.2     0.005830\n",
       "19707   Verb -> 'uning'  Verb             1.1    360.2     0.003054\n",
       "19708   Verb -> 'urati'  Verb             1.1    360.2     0.003054\n",
       "19709  Verb -> 'wantah'  Verb             1.1    360.2     0.003054\n",
       "19710  Verb -> 'wenten'  Verb             2.1    360.2     0.005830\n",
       "\n",
       "[19711 rows x 5 columns]"
      ]
     },
     "execution_count": 85,
     "metadata": {},
     "output_type": "execute_result"
    }
   ],
   "source": [
    "# ambil rule probabilistic\n",
    "df = pd.read_csv(\"rules/probabilistic_rules.csv\")\n",
    "df"
   ]
  },
  {
   "cell_type": "code",
   "execution_count": 86,
   "metadata": {},
   "outputs": [],
   "source": [
    "# tulis rule cfg\n",
    "grammar_cfg = \"\"\n",
    "for prod in df[\"production\"]:\n",
    "  grammar_cfg += f\"{prod}\\n\"\n",
    "grammar_cfg = nltk.CFG.fromstring(grammar_cfg)\n",
    "grammar_cfg._start = nltk.Nonterminal(\"K\")\n",
    "parser_cfg = nltk.ChartParser(grammar_cfg)"
   ]
  },
  {
   "cell_type": "code",
   "execution_count": 87,
   "metadata": {},
   "outputs": [],
   "source": [
    "# # tulis rule pcfg\n",
    "# grammar_pcfg = \"\"\n",
    "# for prod, prob in zip(df[\"production\"], df[\"probability\"]):\n",
    "#   grammar_pcfg += f\"{prod} [{prob}]\\n\"\n",
    "# grammar_pcfg = nltk.PCFG.fromstring(grammar_pcfg)\n",
    "# grammar_pcfg._start = nltk.Nonterminal(\"K\")\n",
    "# parser_pcfg = nltk.ViterbiParser(grammar_pcfg)"
   ]
  },
  {
   "cell_type": "code",
   "execution_count": 88,
   "metadata": {},
   "outputs": [],
   "source": [
    "# tulis kalimat\n",
    "sentence = input(\"Enter your Balinese sentence: \")\n",
    "# sentence = \"meme meli nasi\"\n",
    "sentence = sentence.lower().split()"
   ]
  },
  {
   "cell_type": "code",
   "execution_count": 89,
   "metadata": {},
   "outputs": [],
   "source": [
    "# list(parser_cfg.parse(sentence))"
   ]
  },
  {
   "cell_type": "code",
   "execution_count": 90,
   "metadata": {},
   "outputs": [],
   "source": [
    "# len(list(parser_cfg.parse(sentence)))"
   ]
  },
  {
   "cell_type": "code",
   "execution_count": 91,
   "metadata": {},
   "outputs": [
    {
     "name": "stderr",
     "output_type": "stream",
     "text": [
      "C:\\Users\\Adi\\AppData\\Local\\Temp\\ipykernel_8148\\3809212652.py:7: FutureWarning: ChainedAssignmentError: behaviour will change in pandas 3.0!\n",
      "You are setting values through chained assignment. Currently this works in certain cases, but when using Copy-on-Write (which will become the default behaviour in pandas 3.0) this will never work to update the original DataFrame or Series, because the intermediate object on which we are setting values will behave as a copy.\n",
      "A typical example is when you are setting values in a column of a DataFrame, like:\n",
      "\n",
      "df[\"col\"][row_indexer] = value\n",
      "\n",
      "Use `df.loc[row_indexer, \"col\"] = values` instead, to perform the assignment in a single step and ensure this keeps updating the original `df`.\n",
      "\n",
      "See the caveats in the documentation: https://pandas.pydata.org/pandas-docs/stable/user_guide/indexing.html#returning-a-view-versus-a-copy\n",
      "\n",
      "  result[\"probability\"][i] *= value_k[\"probability\"]\n",
      "C:\\Users\\Adi\\AppData\\Local\\Temp\\ipykernel_8148\\3809212652.py:7: SettingWithCopyWarning: \n",
      "A value is trying to be set on a copy of a slice from a DataFrame\n",
      "\n",
      "See the caveats in the documentation: https://pandas.pydata.org/pandas-docs/stable/user_guide/indexing.html#returning-a-view-versus-a-copy\n",
      "  result[\"probability\"][i] *= value_k[\"probability\"]\n",
      "C:\\Users\\Adi\\AppData\\Local\\Temp\\ipykernel_8148\\3809212652.py:7: FutureWarning: Setting an item of incompatible dtype is deprecated and will raise an error in a future version of pandas. Value '0.4085850556438792' has dtype incompatible with int64, please explicitly cast to a compatible dtype first.\n",
      "  result[\"probability\"][i] *= value_k[\"probability\"]\n"
     ]
    },
    {
     "data": {
      "text/html": [
       "<div>\n",
       "<style scoped>\n",
       "    .dataframe tbody tr th:only-of-type {\n",
       "        vertical-align: middle;\n",
       "    }\n",
       "\n",
       "    .dataframe tbody tr th {\n",
       "        vertical-align: top;\n",
       "    }\n",
       "\n",
       "    .dataframe thead th {\n",
       "        text-align: right;\n",
       "    }\n",
       "</style>\n",
       "<table border=\"1\" class=\"dataframe\">\n",
       "  <thead>\n",
       "    <tr style=\"text-align: right;\">\n",
       "      <th></th>\n",
       "      <th>tree</th>\n",
       "      <th>probability</th>\n",
       "    </tr>\n",
       "  </thead>\n",
       "  <tbody>\n",
       "    <tr>\n",
       "      <th>0</th>\n",
       "      <td>[[[(Noun meme)]], [[(Verb megae)]]]</td>\n",
       "      <td>3.135816e-13</td>\n",
       "    </tr>\n",
       "    <tr>\n",
       "      <th>1</th>\n",
       "      <td>[[[(Noun meme)]], [[(Noun megae)]]]</td>\n",
       "      <td>7.845602e-12</td>\n",
       "    </tr>\n",
       "  </tbody>\n",
       "</table>\n",
       "</div>"
      ],
      "text/plain": [
       "                                  tree   probability\n",
       "0  [[[(Noun meme)]], [[(Verb megae)]]]  3.135816e-13\n",
       "1  [[[(Noun meme)]], [[(Noun megae)]]]  7.845602e-12"
      ]
     },
     "execution_count": 91,
     "metadata": {},
     "output_type": "execute_result"
    }
   ],
   "source": [
    "# hitung probabilistic dan memilih hasil parsing dengan prob tertinggi\n",
    "result = pd.DataFrame({\"tree\": list(parser_cfg.parse(sentence)), \"probability\": [1 for _ in range(len(list(parser_cfg.parse(sentence))))]})\n",
    "for i, value_i in result.iterrows():\n",
    "  for j in value_i[\"tree\"].productions():\n",
    "    for k, value_k in df.iterrows():\n",
    "      if nltk.CFG.fromstring(value_k[\"production\"]).productions()[0] == j:\n",
    "        result[\"probability\"][i] *= value_k[\"probability\"]\n",
    "        continue\n",
    "result"
   ]
  },
  {
   "cell_type": "code",
   "execution_count": 92,
   "metadata": {},
   "outputs": [
    {
     "data": {
      "text/html": [
       "<div>\n",
       "<style scoped>\n",
       "    .dataframe tbody tr th:only-of-type {\n",
       "        vertical-align: middle;\n",
       "    }\n",
       "\n",
       "    .dataframe tbody tr th {\n",
       "        vertical-align: top;\n",
       "    }\n",
       "\n",
       "    .dataframe thead th {\n",
       "        text-align: right;\n",
       "    }\n",
       "</style>\n",
       "<table border=\"1\" class=\"dataframe\">\n",
       "  <thead>\n",
       "    <tr style=\"text-align: right;\">\n",
       "      <th></th>\n",
       "      <th>tree</th>\n",
       "      <th>probability</th>\n",
       "    </tr>\n",
       "  </thead>\n",
       "  <tbody>\n",
       "    <tr>\n",
       "      <th>0</th>\n",
       "      <td>[[[(Noun meme)]], [[(Noun megae)]]]</td>\n",
       "      <td>7.845602e-12</td>\n",
       "    </tr>\n",
       "    <tr>\n",
       "      <th>1</th>\n",
       "      <td>[[[(Noun meme)]], [[(Verb megae)]]]</td>\n",
       "      <td>3.135816e-13</td>\n",
       "    </tr>\n",
       "  </tbody>\n",
       "</table>\n",
       "</div>"
      ],
      "text/plain": [
       "                                  tree   probability\n",
       "0  [[[(Noun meme)]], [[(Noun megae)]]]  7.845602e-12\n",
       "1  [[[(Noun meme)]], [[(Verb megae)]]]  3.135816e-13"
      ]
     },
     "execution_count": 92,
     "metadata": {},
     "output_type": "execute_result"
    }
   ],
   "source": [
    "# merangking rules berdasarkan probability yang dihasilkan\n",
    "result = result.sort_values(by='probability', ascending=False).reset_index(drop=True)\n",
    "result"
   ]
  },
  {
   "cell_type": "code",
   "execution_count": 93,
   "metadata": {},
   "outputs": [
    {
     "data": {
      "image/svg+xml": [
       "<svg baseProfile=\"full\" height=\"216px\" preserveAspectRatio=\"xMidYMid meet\" style=\"font-family: times, serif; font-weight: normal; font-style: normal; font-size: 16px\" version=\"1.1\" viewBox=\"0,0,104.0,216.0\" width=\"104px\" xmlns=\"http://www.w3.org/2000/svg\" xmlns:ev=\"http://www.w3.org/2001/xml-events\" xmlns:xlink=\"http://www.w3.org/1999/xlink\"><defs /><svg width=\"100%\" x=\"0\" y=\"0px\"><defs /><text text-anchor=\"middle\" x=\"50%\" y=\"16px\">K</text></svg><svg width=\"46.1538%\" x=\"0%\" y=\"48px\"><defs /><svg width=\"100%\" x=\"0\" y=\"0px\"><defs /><text text-anchor=\"middle\" x=\"50%\" y=\"16px\">S</text></svg><svg width=\"100%\" x=\"0%\" y=\"48px\"><defs /><svg width=\"100%\" x=\"0\" y=\"0px\"><defs /><text text-anchor=\"middle\" x=\"50%\" y=\"16px\">NP</text></svg><svg width=\"100%\" x=\"0%\" y=\"48px\"><defs /><svg width=\"100%\" x=\"0\" y=\"0px\"><defs /><text text-anchor=\"middle\" x=\"50%\" y=\"16px\">Noun</text></svg><svg width=\"100%\" x=\"0%\" y=\"48px\"><defs /><svg width=\"100%\" x=\"0\" y=\"0px\"><defs /><text text-anchor=\"middle\" x=\"50%\" y=\"16px\">meme</text></svg></svg><line stroke=\"black\" x1=\"50%\" x2=\"50%\" y1=\"20px\" y2=\"48px\" /></svg><line stroke=\"black\" x1=\"50%\" x2=\"50%\" y1=\"20px\" y2=\"48px\" /></svg><line stroke=\"black\" x1=\"50%\" x2=\"50%\" y1=\"20px\" y2=\"48px\" /></svg><line stroke=\"black\" x1=\"50%\" x2=\"23.0769%\" y1=\"20px\" y2=\"48px\" /><svg width=\"53.8462%\" x=\"46.1538%\" y=\"48px\"><defs /><svg width=\"100%\" x=\"0\" y=\"0px\"><defs /><text text-anchor=\"middle\" x=\"50%\" y=\"16px\">P</text></svg><svg width=\"100%\" x=\"0%\" y=\"48px\"><defs /><svg width=\"100%\" x=\"0\" y=\"0px\"><defs /><text text-anchor=\"middle\" x=\"50%\" y=\"16px\">NP</text></svg><svg width=\"100%\" x=\"0%\" y=\"48px\"><defs /><svg width=\"100%\" x=\"0\" y=\"0px\"><defs /><text text-anchor=\"middle\" x=\"50%\" y=\"16px\">Noun</text></svg><svg width=\"100%\" x=\"0%\" y=\"48px\"><defs /><svg width=\"100%\" x=\"0\" y=\"0px\"><defs /><text text-anchor=\"middle\" x=\"50%\" y=\"16px\">megae</text></svg></svg><line stroke=\"black\" x1=\"50%\" x2=\"50%\" y1=\"20px\" y2=\"48px\" /></svg><line stroke=\"black\" x1=\"50%\" x2=\"50%\" y1=\"20px\" y2=\"48px\" /></svg><line stroke=\"black\" x1=\"50%\" x2=\"50%\" y1=\"20px\" y2=\"48px\" /></svg><line stroke=\"black\" x1=\"50%\" x2=\"73.0769%\" y1=\"20px\" y2=\"48px\" /></svg>"
      ],
      "text/plain": [
       "Tree('K', [Tree('S', [Tree('NP', [Tree('Noun', ['meme'])])]), Tree('P', [Tree('NP', [Tree('Noun', ['megae'])])])])"
      ]
     },
     "execution_count": 93,
     "metadata": {},
     "output_type": "execute_result"
    }
   ],
   "source": [
    "result[\"tree\"][0]"
   ]
  }
 ],
 "metadata": {
  "kernelspec": {
   "display_name": "Python 3",
   "language": "python",
   "name": "python3"
  },
  "language_info": {
   "codemirror_mode": {
    "name": "ipython",
    "version": 3
   },
   "file_extension": ".py",
   "mimetype": "text/x-python",
   "name": "python",
   "nbconvert_exporter": "python",
   "pygments_lexer": "ipython3",
   "version": "3.12.8"
  }
 },
 "nbformat": 4,
 "nbformat_minor": 2
}
